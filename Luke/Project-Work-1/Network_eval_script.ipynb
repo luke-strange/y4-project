{
 "cells": [
  {
   "cell_type": "code",
   "execution_count": 7,
   "metadata": {
    "id": "tOsNnTnjY910"
   },
   "outputs": [],
   "source": [
    "import os\n",
    "import time\n",
    "import pkg_resources\n",
    "import math\n",
    "import numpy as np\n",
    "import matplotlib.pyplot as plt\n",
    "import torch\n",
    "import torch.optim as optim"
   ]
  },
  {
   "cell_type": "code",
   "execution_count": 8,
   "metadata": {
    "id": "82XsoHzYcvBU"
   },
   "outputs": [],
   "source": [
    "##geometry.py\n",
    "def setgeometry(q):\n",
    "    global qdim, xmin, xmax, xstops, xmid, xwid\n",
    "\n",
    "    # bins\n",
    "    qdim = q\n",
    "\n",
    "    # prior range for x (will be uniform)\n",
    "    xmin, xmax = 0, 1\n",
    "\n",
    "    # definition of quantization bins\n",
    "    xstops = np.linspace(xmin, xmax, qdim + 1)\n",
    "\n",
    "    # to plot histograms\n",
    "    xmid = 0.5 * (xstops[:-1] + xstops[1:])\n",
    "    xwid = xstops[1] - xstops[0]\n",
    "\n",
    "setgeometry(64)"
   ]
  },
  {
   "cell_type": "code",
   "execution_count": 9,
   "metadata": {
    "id": "dF8V6dpnaEDT"
   },
   "outputs": [],
   "source": [
    "##network.py\n",
    "import torch\n",
    "import torch.nn as nn\n",
    "import torch.nn.functional as F\n",
    "# import torch.optim as optim\n",
    "\n",
    "\n",
    "def makenet(dims, softmax=True, single=True):\n",
    "  \"\"\"Make a fully connected DNN with layer widths described by `dims`.\n",
    "  CUDA is always enabled, and double precision is set with `single=False`.\n",
    "  The output layer applies a softmax transformation,\n",
    "  disabled by setting `softmax=False`.\"\"\"\n",
    "\n",
    "  ndims = len(dims)\n",
    "\n",
    "  class Net(nn.Module):\n",
    "    def __init__(self):\n",
    "      super(Net, self).__init__()\n",
    "\n",
    "      # the weights must be set explicitly as attributes in the class\n",
    "      # (i.e., we can't collect them in a single list)\n",
    "      for l in range(ndims - 1):\n",
    "        layer = nn.Linear(dims[l], dims[l+1])\n",
    "        \n",
    "        if not single:\n",
    "          layer = layer.double()\n",
    "        \n",
    "        if torch.cuda.is_available():\n",
    "          layer = layer.cuda()\n",
    "        \n",
    "        setattr(self, f'fc{l}', layer)\n",
    "                \n",
    "    def forward(self, x):\n",
    "      # per Alvin's recipe, apply relu everywhere but last layer\n",
    "      for l in range(ndims - 2):\n",
    "        x = F.leaky_relu(getattr(self, f'fc{l}')(x), negative_slope=0.2)\n",
    "\n",
    "      x = getattr(self, f'fc{ndims - 2}')(x)\n",
    "\n",
    "      if softmax:\n",
    "        return F.softmax(x, dim=1)\n",
    "      else:\n",
    "        return x\n",
    "  \n",
    "  return Net\n",
    "\n",
    "\n",
    "def makenetbn(dims, softmax=True, single=True):\n",
    "  \"\"\"A batch-normalizing version of makenet. Experimental.\"\"\"\n",
    "\n",
    "  ndims = len(dims)\n",
    "\n",
    "  class Net(nn.Module):\n",
    "    def __init__(self):\n",
    "      super(Net, self).__init__()\n",
    "\n",
    "      # the weights must be set explicitly as attributes in the class\n",
    "      # (i.e., we can't collect them in a single list)\n",
    "      for l in range(ndims - 1):\n",
    "        layer = nn.Linear(dims[l], dims[l+1])\n",
    "        bn = nn.BatchNorm1d(num_features=dims[l+1])\n",
    "        \n",
    "        if not single:\n",
    "          layer = layer.double()\n",
    "          bn = bn.double()\n",
    "        \n",
    "        if torch.cuda.is_available():\n",
    "          layer = layer.cuda()\n",
    "          bn = bn.cuda()\n",
    "        \n",
    "        setattr(self, f'fc{l}', layer)\n",
    "        setattr(self, f'bn{l}', bn)\n",
    "                \n",
    "    def forward(self, x):\n",
    "      # per Alvin's recipe, apply relu everywhere but last layer\n",
    "      for l in range(ndims - 2):\n",
    "        x = getattr(self, f'bn{l}')(F.leaky_relu(getattr(self, f'fc{l}')(x), negative_slope=0.2))\n",
    "\n",
    "      x = getattr(self, f'fc{ndims - 2}')(x)\n",
    "\n",
    "      if softmax:\n",
    "        return F.softmax(x, dim=1)\n",
    "      else:\n",
    "        return x\n",
    "  \n",
    "  return Net"
   ]
  },
  {
   "cell_type": "code",
   "execution_count": 10,
   "metadata": {
    "id": "2r46ag2NaO18"
   },
   "outputs": [],
   "source": [
    "def numpy2cuda(array, single=True):\n",
    "  array = torch.from_numpy(array)\n",
    "  \n",
    "  if single:\n",
    "    array = array.float()\n",
    "    \n",
    "  if torch.cuda.is_available():\n",
    "    array = array.cuda()\n",
    "    \n",
    "  return array\n",
    "\n",
    "\n",
    "def cuda2numpy(tensor):\n",
    "  return tensor.detach().cpu().numpy()"
   ]
  },
  {
   "cell_type": "code",
   "execution_count": 11,
   "metadata": {
    "id": "WS9Cq3F1aprc"
   },
   "outputs": [],
   "source": [
    "from GWFunctions_v3 import h_func_f2\n",
    "def syntrain(size,  region=[[0.4, 0.6], [7*np.pi/4, 2*np.pi]], varx='theta_N', \n",
    "             varall=True, seed=None, single=True, noise=1):\n",
    "    \"\"\"Makes a training set using the ROMAN NN. It returns labels (for `varx`,\n",
    "        or for all if `varall=True`), indicator vectors, and ROM coefficients\n",
    "        (with `snr` and `noise`). Note that the coefficients are kept on the GPU.\n",
    "        Parameters are sampled randomly within `region`.\"\"\"\n",
    "    device = 'cuda:0' if torch.cuda.is_available() else 'cpu:0'\n",
    "    \n",
    "    if seed is not None:\n",
    "        np.random.seed(seed)\n",
    "        torch.manual_seed(seed)\n",
    "    \n",
    "    with torch.no_grad():\n",
    "        xs = torch.zeros((size,2), dtype=torch.float, device=device)\n",
    "\n",
    "        for i, r in enumerate(region):\n",
    "            xs[:,i] = r[0] + (r[1] - r[0]) * torch.rand((size,), dtype=torch.float, device=device)\n",
    "        \n",
    "        xs_1 = xs.detach().cpu().double().numpy()\n",
    "        \n",
    "        #generating signals\n",
    "        signal = np.apply_along_axis(h_func_f2, 1, xs_1, noise)[:,:,0]\n",
    "            \n",
    "        signal_r, signal_i = numpy2cuda(signal.real), numpy2cuda(signal.imag)\n",
    "        \n",
    "        #setting up real and imag alphas\n",
    "        alphas = torch.zeros((size, 200*2), dtype=torch.float if single else torch.double, device=device)\n",
    "        \n",
    "        alphas[:,0::2] = signal_r \n",
    "        alphas[:,1::2] = signal_i \n",
    "\n",
    "    xr = xs.detach().cpu().double().numpy()\n",
    "\n",
    "    del xs, signal_r, signal_i\n",
    "\n",
    "      # normalize (for provided regions)\n",
    "    for i, r in enumerate(region):\n",
    "        xr[:,i] = (xr[:,i] - r[0]) / (r[1] - r[0])\n",
    "\n",
    "    if isinstance(varx, list):\n",
    "        ix = ['theta_N','phi'].index(varx[0])\n",
    "        jx = ['theta_N','phi'].index(varx[1])    \n",
    "\n",
    "        i = np.digitize(xr[:,ix], xstops, False) - 1\n",
    "        i[i == -1] = 0; i[i == qdim] = qdim - 1\n",
    "        px = np.zeros((size, qdim), 'd'); px[range(size), i] = 1\n",
    "\n",
    "        j = np.digitize(xr[:,jx], xstops, False) - 1\n",
    "        j[j == -1] = 0; j[j == qdim] = qdim - 1\n",
    "        py = np.zeros((size, qdim), 'd'); py[range(size), j] = 1\n",
    "\n",
    "        if varall:\n",
    "            return xr, np.einsum('ij,ik->ijk', px, py), alphas\n",
    "        else:\n",
    "            return xr[:,[ix,jx]], np.einsum('ij,ik->ijk', px, py), alphas    \n",
    "    else:\n",
    "        ix = ['theta_N','phi'].index(varx)\n",
    "\n",
    "        i = np.digitize(xr[:,ix], xstops, False) - 1\n",
    "        i[i == -1] = 0; i[i == qdim] = qdim - 1\n",
    "        px = np.zeros((size, qdim), 'd'); px[range(size), i] = 1\n",
    "\n",
    "        if varall:\n",
    "            return xr, px, alphas\n",
    "        else:\n",
    "            return xr[:,ix], px, alphas"
   ]
  },
  {
   "cell_type": "code",
   "execution_count": 12,
   "metadata": {
    "id": "22dAKQNvbTec"
   },
   "outputs": [],
   "source": [
    "def syntrainer(net, syntrain, lossfunction=None, iterations=300, \n",
    "               batchsize=None, initstep=1e-3, finalv=1e-5, clipgradient=None, validation=None,\n",
    "               seed=None, single=True):\n",
    "  \"\"\"Trains network NN against training sets obtained from `syntrain`,\n",
    "  iterating at most `iterations`; stops if the derivative of loss\n",
    "  (averaged over 20 epochs) becomes less than `finalv`.\"\"\"\n",
    "\n",
    "  if seed is not None:\n",
    "    np.random.seed(seed)\n",
    "    torch.manual_seed(seed)\n",
    "\n",
    "  indicatorloss = 'l' in lossfunction.__annotations__ and lossfunction.__annotations__['l'] == 'indicator'  \n",
    "  \n",
    "  if validation is not None:\n",
    "    raise NotImplementedError\n",
    "    \n",
    "    vlabels = numpy2cuda(validation[1] if indicatorloss else validation[0], single)\n",
    "    vinputs = numpy2cuda(validation[2], single)\n",
    "  \n",
    "  optimizer = optim.Adam(net.parameters(), lr=initstep)\n",
    "\n",
    "  training_loss, validation_loss = [], []\n",
    "  \n",
    "  for epoch in range(iterations):\n",
    "    t0 = time.time()\n",
    "\n",
    "    xtrue, indicator, inputs = syntrain()\n",
    "    labels = numpy2cuda(indicator if indicatorloss else xtrue, single)\n",
    "\n",
    "    if batchsize is None:\n",
    "      batchsize = inputs.shape[0]\n",
    "    batches = inputs.shape[0] // batchsize\n",
    "\n",
    "    averaged_loss = 0.0    \n",
    "    \n",
    "    for i in range(batches):\n",
    "      # zero the parameter gradients\n",
    "      optimizer.zero_grad()\n",
    "\n",
    "      # forward + backward + optimize\n",
    "      outputs = net(inputs[i*batchsize:(i+1)*batchsize])\n",
    "      loss = lossfunction(outputs, labels[i*batchsize:(i+1)*batchsize])\n",
    "      loss.backward()\n",
    "      \n",
    "      if clipgradient is not None:\n",
    "        torch.nn.utils.clip_grad_norm_(net.parameters(), clipgradient)\n",
    "      \n",
    "      optimizer.step()\n",
    "\n",
    "      # print statistics\n",
    "      averaged_loss += loss.item()\n",
    "\n",
    "    training_loss.append(averaged_loss/batches)\n",
    "\n",
    "    if validation is not None:\n",
    "      loss = lossfunction(net(vinputs), vlabels)\n",
    "      validation_loss.append(loss.detach().cpu().item())\n",
    "\n",
    "    if epoch == 1:\n",
    "      print(\"One epoch = {:.1f} seconds.\".format(time.time() - t0))\n",
    "\n",
    "    if epoch % 50 == 0:\n",
    "      print(epoch,training_loss[-1],validation_loss[-1] if validation is not None else '')\n",
    "\n",
    "    try:\n",
    "      if len(training_loss) > iterations/10:\n",
    "        training_rate = np.polyfit(range(20), training_loss[-20:], deg=1)[0]\n",
    "        if training_rate < 0 and training_rate > -finalv:\n",
    "          print(f\"Terminating at epoch {epoch} because training loss stopped improving sufficiently: rate = {training_rate}\")\n",
    "          break\n",
    "\n",
    "      if len(validation_loss) > iterations/10:\n",
    "        validation_rate = np.polyfit(range(20), validation_loss[-20:], deg=1)[0]        \n",
    "        if validation_rate > 0:\n",
    "          print(f\"Terminating at epoch {epoch} because validation loss started worsening: rate = {validation_rate}\")\n",
    "          break\n",
    "    except:\n",
    "      pass\n",
    "          \n",
    "  print(\"Final\",training_loss[-1],validation_loss[-1] if validation is not None else '')\n",
    "      \n",
    "  if hasattr(net,'steps'):\n",
    "    net.steps += iterations\n",
    "  else:\n",
    "    net.steps = iterations"
   ]
  },
  {
   "cell_type": "code",
   "execution_count": 13,
   "metadata": {
    "id": "gpkdWtzOZ1mV"
   },
   "outputs": [],
   "source": [
    "dimensions = [200*2] + [1024]*8 + [1*6]\n",
    "percival_network = makenet(dimensions, softmax=False)\n",
    "network_to_use = percival_network()"
   ]
  },
  {
   "cell_type": "code",
   "execution_count": 14,
   "metadata": {
    "colab": {
     "base_uri": "https://localhost:8080/"
    },
    "id": "a9WgRYHNbVg0",
    "outputId": "4b572f58-9867-4eae-a078-74d100265575"
   },
   "outputs": [
    {
     "data": {
      "text/plain": [
       "<bound method Module.eval of Net(\n",
       "  (fc0): Linear(in_features=400, out_features=1024, bias=True)\n",
       "  (fc1): Linear(in_features=1024, out_features=1024, bias=True)\n",
       "  (fc2): Linear(in_features=1024, out_features=1024, bias=True)\n",
       "  (fc3): Linear(in_features=1024, out_features=1024, bias=True)\n",
       "  (fc4): Linear(in_features=1024, out_features=1024, bias=True)\n",
       "  (fc5): Linear(in_features=1024, out_features=1024, bias=True)\n",
       "  (fc6): Linear(in_features=1024, out_features=1024, bias=True)\n",
       "  (fc7): Linear(in_features=1024, out_features=1024, bias=True)\n",
       "  (fc8): Linear(in_features=1024, out_features=6, bias=True)\n",
       ")>"
      ]
     },
     "execution_count": 14,
     "metadata": {},
     "output_type": "execute_result"
    }
   ],
   "source": [
    "#load the network\n",
    "network_to_use.load_state_dict(torch.load('/content/theta-phi_l200-1024x8_2d_5000it.pt'))\n",
    "network_to_use.eval()"
   ]
  },
  {
   "cell_type": "code",
   "execution_count": 15,
   "metadata": {
    "id": "ZiSu003PblvE"
   },
   "outputs": [],
   "source": [
    "mutest = syntrain(5000)\n",
    "theta_N = mutest[0][:,0]\n",
    "phi = mutest[0][:,1]\n",
    "idx = np.argsort(theta_N)"
   ]
  },
  {
   "cell_type": "code",
   "execution_count": 16,
   "metadata": {
    "id": "PNJMCoRScJrM"
   },
   "outputs": [],
   "source": [
    "def synlike(a, syntrain, iterations=1000000):\n",
    "  with torch.no_grad():\n",
    "    # note aimag defined with plus here, exp below modified consistently\n",
    "    # [areal] = [aimag] = nbasis x nsignals \n",
    "    areal, aimag = torch.t(a[:,0::2]), torch.t(a[:,1::2])\n",
    "\n",
    "    # [anorm] = nsignals\n",
    "    anorm = torch.sum(areal*areal + aimag*aimag, dim=0)\n",
    "    \n",
    "    cnt, norm, like = 0, 0, 0\n",
    "    adapt = None\n",
    "    while cnt < iterations:\n",
    "      # [pxt] = nbatch x qdim\n",
    "      _, pxt, alpha = syntrain()\n",
    "      cnt = cnt + alpha.shape[0]\n",
    "\n",
    "      # cpxt = torch.from_numpy(pxt).cuda()\n",
    "      # handle 2D indicator array (assume square qdim)\n",
    "      cpxt = numpy2cuda(pxt if pxt.ndim == 2 else pxt.reshape((pxt.shape[0], pxt.shape[1]*pxt.shape[1])),\n",
    "                        alpha.dtype == torch.float32)\n",
    "      \n",
    "      # [alphareal] = [alphaimag] = nbatch x nbasis\n",
    "      alphareal, alphaimag = alpha[:,0::2], alpha[:,1::2]\n",
    "\n",
    "      # [norm] = qdim\n",
    "      norm += torch.sum(cpxt, dim=0)\n",
    "      \n",
    "      # [alphanorm] = nbatch\n",
    "      alphanorm = torch.sum(alphareal*alphareal + alphaimag*alphaimag, dim=1)\n",
    "\n",
    "      # automatic normalization of exponentials based on the first batch\n",
    "      loglike = (alphareal @ areal + alphaimag @ aimag - 0.5*alphanorm.unsqueeze(1) - 0.5*anorm)*1/100000\n",
    "      if adapt is None:\n",
    "        adapt = torch.max(loglike, dim=0)[0]\n",
    "      loglike -= adapt\n",
    "\n",
    "      # [like] = qdim x nsignals = (qdim x nbatch) @ [(nbatch x nbasis) @ (nbasis x nsignals) + (nbatch x 1) + nsignals]\n",
    "      # remember broadcasting tries to match the last dimension [so A @ b = sum(A * b,axis=1)]\n",
    "      like += torch.t(cpxt) @ torch.exp(loglike)\n",
    "\n",
    "    # (qdim x nsignals) * (qdim x 1)\n",
    "    like = like / norm.unsqueeze(1)  \n",
    "    \n",
    "    # [ret] = nsignals x qdim = (nsignals x qdim) * qdim\n",
    "    ret = torch.t(like / torch.sum(like, dim=0))\n",
    "    \n",
    "    nret = ret.detach().cpu().numpy()\n",
    "    \n",
    "  return nret if pxt.ndim == 2 else nret.reshape((nret.shape[0], pxt.shape[1], pxt.shape[1]))"
   ]
  },
  {
   "cell_type": "code",
   "execution_count": 24,
   "metadata": {
    "id": "5GSEIK4Jc0PL"
   },
   "outputs": [],
   "source": [
    "likeset_theta_N = lambda: syntrain(size=100000, varx='theta_N', region=[[0.4, 0.6], [7*np.pi/4, 2*np.pi]], noise=0)\n",
    "likeset_phi = lambda: syntrain(size=100000, varx='phi', region=[[0.4, 0.6], [7*np.pi/4, 2*np.pi]], noise=0)\n",
    "likeset_2 = lambda: syntrain(size=10000, varx=['theta_N','phi'], region=[[0.4, 0.6], [7*np.pi/4, 2*np.pi]], noise=0)"
   ]
  },
  {
   "cell_type": "code",
   "execution_count": null,
   "metadata": {
    "id": "YQK6A2fJc4Ws"
   },
   "outputs": [],
   "source": [
    "%%time\n",
    "sl_theta_N = synlike(mutest[2][:24,:], likeset_theta_N, iterations=10000000)"
   ]
  },
  {
   "cell_type": "code",
   "execution_count": 19,
   "metadata": {
    "colab": {
     "base_uri": "https://localhost:8080/"
    },
    "id": "5Rsdx0qJc7Gr",
    "outputId": "712c9b1e-c4f7-4a20-89e7-e978af6f687a"
   },
   "outputs": [
    {
     "name": "stdout",
     "output_type": "stream",
     "text": [
      "CPU times: user 12min 33s, sys: 7.27 s, total: 12min 40s\n",
      "Wall time: 12min 33s\n"
     ]
    }
   ],
   "source": [
    "%%time\n",
    "sl_phi = synlike(mutest[2][:24,:], likeset_phi, iterations=10000000)"
   ]
  },
  {
   "cell_type": "code",
   "execution_count": 20,
   "metadata": {
    "id": "65OwvziSdLli"
   },
   "outputs": [],
   "source": [
    "import matplotlib.pyplot as pp\n",
    "def plotgauss(xtrue, indicator, inputs, net=None, like=None, varx=None, twodim=False, istart=0, single=True):  \n",
    "  pp.figure(figsize=(12,8))\n",
    "\n",
    "  if isinstance(like, types.FunctionType):\n",
    "    like = like(inputs)\n",
    "\n",
    "  for i in range(6):\n",
    "    pp.subplot(3,2,i+1)\n",
    "\n",
    "    # make and plot Gaussian mixture\n",
    "    \n",
    "    netinput = inputs[istart+i:(istart+i+1),:]\n",
    "    with torch.no_grad():\n",
    "      pars = net(netinput).detach().cpu().numpy().flatten()\n",
    "    \n",
    "    if twodim:\n",
    "      Fxx, Fyy = pars[1::6]**2, pars[3::6]**2\n",
    "      Fxy = np.arctan(pars[4::6]) / (0.5*math.pi) * pars[1::6] * pars[3::6]\n",
    "      weight = torch.softmax(torch.from_numpy(pars[5::6]),dim=0).numpy()\n",
    "\n",
    "      dx  = (pars[2::6] if varx == 'phi' else pars[0::6]) - xmid[:,np.newaxis]\n",
    "      Cxx = Fxx / (Fxx*Fyy - Fxy*Fxy) if varx == 'phi' else Fyy / (Fxx*Fyy - Fxy*Fxy) \n",
    "\n",
    "      pdf = np.sum(weight * np.exp(-0.5*dx**2/Cxx) / np.sqrt(2*math.pi*Cxx) * xwid, axis=1)\n",
    "\n",
    "      # logmod = scs.logsumexp(np.log(weight) - 0.5*(Fxx*dx*dx + Fyy*dy*dy + 2*Fxy*dx*dy) + 0.5*np.log(Fxx*Fyy - Fxy*Fxy), axis=2)\n",
    "    else:\n",
    "      if len(pars) == 2:\n",
    "        pdf = np.exp(-0.5*(xmid - pars[0])**2/pars[1]**2) / math.sqrt(2*math.pi*pars[1]**2) * xwid\n",
    "      else:\n",
    "        wg = torch.softmax(torch.from_numpy(pars[2::3]), dim=0).numpy()\n",
    "        pdf = np.sum(wg * np.exp(-0.5*(xmid[:,np.newaxis] - pars[0::3])**2/pars[1::3]**2) / np.sqrt(2*math.pi*pars[1::3]**2) * xwid, axis=1)\n",
    "    \n",
    "    pp.plot(xmid, pdf, color='C0')\n",
    "    \n",
    "    # plot likelihood\n",
    "    pp.plot(xmid, like[istart+i], color='C1')\n",
    "\n",
    "    # show true x\n",
    "    if xtrue.ndim == 2:\n",
    "      ix = ['theta_N', 'phi'].index(varx)\n",
    "      pp.axvline(xtrue[istart+i, ix], color='C2', ls=':')\n",
    "    else:\n",
    "      pp.axvline(xtrue[istart+i], color='C2', ls=':')"
   ]
  },
  {
   "cell_type": "code",
   "execution_count": 21,
   "metadata": {
    "id": "i-SYGGGzdkoD"
   },
   "outputs": [],
   "source": [
    "def netmeanGn(inputs, net=None, single=True):\n",
    "  if isinstance(inputs, np.ndarray):\n",
    "    inputs = numpy2cuda(inputs, single)\n",
    "    \n",
    "  pars = cuda2numpy(net(inputs))\n",
    "\n",
    "  dx  = pars[:,0::3] \n",
    "  std = pars[:,1::3]\n",
    "  pweight = torch.softmax(torch.from_numpy(pars[:,2::3]),dim=1).numpy()\n",
    "\n",
    "  # see https://en.wikipedia.org/wiki/Mixture_distribution\n",
    "  xmean = np.sum(pweight * dx, axis=1)\n",
    "  xerr  = np.sqrt(np.sum(pweight * (dx**2 + std**2), axis=1) - xmean**2)\n",
    "\n",
    "  return xmean, xerr"
   ]
  },
  {
   "cell_type": "code",
   "execution_count": 22,
   "metadata": {
    "colab": {
     "base_uri": "https://localhost:8080/",
     "height": 483
    },
    "id": "SyaAGJS2dqmL",
    "outputId": "c76cc849-53c8-4917-ff7c-2199b1b035f5"
   },
   "outputs": [
    {
     "data": {
      "image/png": "[encoded data removed]",
      "text/plain": [
       "<Figure size 864x576 with 6 Axes>"
      ]
     },
     "metadata": {
      "needs_background": "light"
     },
     "output_type": "display_data"
    }
   ],
   "source": [
    "import types\n",
    "plotgauss(*mutest, net=network_to_use, varx='theta_N', like=sl_theta_N, twodim=True, istart=6)"
   ]
  },
  {
   "cell_type": "code",
   "execution_count": 23,
   "metadata": {
    "colab": {
     "base_uri": "https://localhost:8080/",
     "height": 485
    },
    "id": "qGnzuW5xmbuJ",
    "outputId": "d9f33a77-e043-42dd-864c-421accb2095b"
   },
   "outputs": [
    {
     "data": {
      "image/png": "[encoded data removed]",
      "text/plain": [
       "<Figure size 864x576 with 6 Axes>"
      ]
     },
     "metadata": {
      "needs_background": "light"
     },
     "output_type": "display_data"
    }
   ],
   "source": [
    "plotgauss(*mutest, net=network_to_use, varx='phi', like=sl_phi, twodim=True, istart=6)"
   ]
  },
  {
   "cell_type": "code",
   "execution_count": null,
   "metadata": {
    "id": "1xNQPlZ2pw14"
   },
   "outputs": [],
   "source": []
  }
 ],
 "metadata": {
  "accelerator": "GPU",
  "colab": {
   "name": "Network_eval_script.ipynb",
   "provenance": []
  },
  "kernelspec": {
   "display_name": "Python 3",
   "language": "python",
   "name": "python3"
  },
  "language_info": {
   "codemirror_mode": {
    "name": "ipython",
    "version": 3
   },
   "file_extension": ".py",
   "mimetype": "text/x-python",
   "name": "python",
   "nbconvert_exporter": "python",
   "pygments_lexer": "ipython3",
   "version": "3.6.5"
  }
 },
 "nbformat": 4,
 "nbformat_minor": 1
}
