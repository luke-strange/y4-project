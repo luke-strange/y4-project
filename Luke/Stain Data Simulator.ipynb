{
 "cells": [
  {
   "cell_type": "code",
   "execution_count": 1,
   "metadata": {},
   "outputs": [],
   "source": [
    "import numpy as np\n",
    "import matplotlib.pyplot as plt\n",
    "from scipy import constants"
   ]
  },
  {
   "cell_type": "code",
   "execution_count": 4,
   "metadata": {},
   "outputs": [],
   "source": [
    "def coalescence_time(f, chirp_mass):\n",
    "    'Coalescence time of BBH merger'\n",
    "    return 5 * (8 * np.pi * f)**(-8/3) * chirp_mass**(-5/3)\n",
    "\n",
    "def freq(t, tc, chirp_mass):\n",
    "    'finding frequency as function of time'\n",
    "    return (((tc - t)/5)**(-3/8)) / (8*np.pi*(chirp_mass**(5/8)))\n",
    "\n",
    "def phase(tc, t, ch_mass, phi_c):   #what is this called?????\n",
    "    return phi_c - 2 * ((tc - t)/(5 * ch_mass))**(5/8)\n",
    "\n",
    "def phi_t_Lbar(time, phi_0):\n",
    "    'LISA orbital phase'\n",
    "    return phi_0 + (2*np.pi*time/constants.year)\n",
    "\n",
    "def theta_s_t(theta_sbar, phi_t_Lbar, phi_sbar):\n",
    "    'Source location'\n",
    "    cos_theta = 0.5 * np.cos(theta_sbar) - (np.sqrt(3)/2)*np.sin(theta_sbar)*np.cos(phi_t_Lbar-phi_sbar)\n",
    "    return np.arccos(cos_theta)\n",
    "\n",
    "def alpha_i_t(i, t, alpha_0):\n",
    "    'LISA Arm orientation'\n",
    "    T = 31536000\n",
    "    return 2*np.pi*t/T - np.pi/12 - (i-1)*np.pi/3 + alpha_0\n",
    "\n",
    "def phi_s_t(theta_sbar, phi_t_bar, phi_s_bar, alpha1):\n",
    "    'Source location in (unbarred) detector frame'\n",
    "    return alpha1 + np.pi/12 + np.arctan((np.sqrt(3)*np.cos(theta_sbar) + np.sin(theta_sbar)*np.cos(phi_t_bar - phi_sbar))\\\n",
    "                                   /(2*np.sin(theta_sbar)*np.sin(phi_t_bar - phi_sbar)) )\n",
    "\n",
    "def psi_s_t(theta_Lbar, phi_Lbar, theta_sbar, phi_sbar, phi_t_Lbar):\n",
    "    'Polarisation angle'\n",
    "    L_dot_z = 0.5 * np.cos(theta_Lbar) - ( (np.sqrt(3)/2) * np.sin(theta_Lbar) * np.cos(phi_t_Lbar - phi_Lbar) )\n",
    "    #print(L_dot_z)\n",
    "    L_dot_n = np.cos(theta_Lbar)*np.cos(theta_sbar) + np.sin(theta_Lbar)*np.sin(theta_sbar)*np.cos(phi_Lbar - phi_sbar)\n",
    "    global cos_i\n",
    "    cos_i = L_dot_n\n",
    "    \n",
    "    cross = (0.5*np.sin(theta_Lbar)*np.sin(theta_sbar)*np.sin(phi_Lbar - phi_sbar)) - \\\n",
    "    (np.sqrt(3)/2)*np.cos(phi_t_Lbar)*( (np.cos(theta_Lbar)*np.sin(theta_sbar)*np.sin(phi_sbar) - \\\n",
    "                                      np.cos(theta_sbar)*np.sin(theta_Lbar)*np.sin(phi_Lbar)) )\\\n",
    "    - (np.sqrt(3)/2)*np.sin(phi_t_Lbar)*(np.cos(theta_sbar)*np.sin(theta_Lbar)*np.cos(phi_Lbar) - \\\n",
    "                                      np.cos(theta_Lbar)*np.sin(theta_sbar)*np.cos(phi_sbar))\n",
    "    \n",
    "    tan_psi = (L_dot_z - L_dot_n * np.cos(theta_s_t_)) / cross\n",
    "    \n",
    "    return np.arctan(tan_psi)\n",
    "\n",
    "def doppler_phase(f, theta_sbar, phi, phi_sbar):\n",
    "    'doppler phase due to LISA motion'\n",
    "    R = constants.astronomical_unit/constants.speed_of_light\n",
    "    return 2 * np.pi * f * R * np.sin(theta_sbar) * np.cos(phi - phi_sbar)\n",
    "\n",
    "def F_plus(theta_s, phi_s, psi_s):\n",
    "    'Detector Beam Pattern Coefficient'\n",
    "    return (0.5 * (1 + np.cos(theta_s)**2) * np.cos(2*phi_s) * np.cos(2*psi_s)) - \\\n",
    "                        (np.cos(theta_s) * np.sin(2*phi_s) * np.sin(2*psi_s) )\n",
    "\n",
    "def F_cross(theta_s, phi_s, psi_s):\n",
    "    'Detector Beam Pattern Coefficient'\n",
    "    return (0.5 * (1+np.cos(theta_s)**2) * np.cos(2*phi_s) * np.sin(2*psi_s)) + \\\n",
    "                        (np.cos(theta_s) * np.sin(2*phi_s) * np.cos(2*psi_s))\n",
    "\n",
    "def phi_P_I_t(cos_i, F_plus, F_cross): #change to phi\n",
    "    'Polarisation Phase'\n",
    "    return np.arctan( (2*cos_i*F_cross)/((1 + (cos_i**2))*F_plus) )\n",
    "\n",
    "def A_t(M_c, f, D_L):\n",
    "    'Waveform Amplitude'\n",
    "    return 2 * M_c**(5/3) * (np.pi*f)**(2/3) / D_L\n",
    "\n",
    "def A_p_t(F_plus, F_cross, cos_i):\n",
    "    'Polarization Amplitude'\n",
    "    return np.sqrt(3)/2 * (((1+cos_i**2)**2 * F_plus**2) + (4 * cos_i**2 * F_cross**2))**(1/2) \n",
    "\n",
    "def h_t(A_t, A_p_t, phase, phi_P_I_t, doppler_phase):\n",
    "    'Strain signal'\n",
    "    return A_t * A_p_t * np.cos(phase + phi_P_I_t + doppler_phase)"
   ]
  },
  {
   "cell_type": "code",
   "execution_count": 12,
   "metadata": {},
   "outputs": [
    {
     "name": "stdout",
     "output_type": "stream",
     "text": [
      "[array([-7.26744749e-19, -7.31755042e-19, -7.10783277e-19, ...,\n",
      "       -1.93503376e-18,  1.41211738e-18,  5.98164923e-19]), array([ 1.47128348e-18,  1.36817562e-18,  1.25934838e-18, ...,\n",
      "       -2.18773794e-18, -6.85720899e-18, -8.95939557e-18]), array([-3.25444990e-18, -3.16981180e-18, -3.08156032e-18, ...,\n",
      "       -1.05019405e-17, -1.22372974e-17, -1.33623400e-17]), array([-1.98644239e-18, -1.85597706e-18, -1.72467854e-18, ...,\n",
      "       -1.64713780e-17, -1.73151543e-17, -1.79627579e-17]), array([ 1.66391773e-18,  1.53068416e-18,  1.39711805e-18, ...,\n",
      "       -2.17842070e-17, -2.22699838e-17, -2.26776363e-17]), array([ 1.19152742e-17,  1.19570888e-17,  1.19975587e-17, ...,\n",
      "       -2.68472367e-17, -2.71578549e-17, -2.74325590e-17]), array([ 4.28873345e-18,  4.16248518e-18,  4.03595422e-18, ...,\n",
      "       -3.17920279e-17, -3.20048832e-17, -3.21995024e-17]), array([-2.01302665e-17, -2.01333692e-17, -2.01356617e-17, ...,\n",
      "       -3.66722111e-17, -3.68252001e-17, -3.69682516e-17]), array([-2.16139500e-17, -2.15562875e-17, -2.14980667e-17, ...,\n",
      "       -4.15134600e-17, -4.16271814e-17, -4.17352062e-17]), array([ 2.03593568e-17,  2.04447474e-17,  2.05298003e-17, ...,\n",
      "       -4.63295669e-17, -4.64161266e-17, -4.64993021e-17])]\n"
     ]
    }
   ],
   "source": [
    "#defining variables\n",
    "strain_list = []\n",
    "for i in range(int(10**6), int(10**7), int(9e5)):\n",
    "    chirp_mass = i\n",
    "    Nsamples = 10000\n",
    "    theta_Lbar = np.pi/5\n",
    "    phi_Lbar = np.pi/11\n",
    "    theta_sbar = 2*np.pi/7\n",
    "    phi_sbar = 7*np.pi/12\n",
    "    alpha_0 = 0\n",
    "    phi_0 = 0\n",
    "    phi_c = 0\n",
    "    det_no = 1\n",
    "    fmin = 1e-4\n",
    "    m_sun = 1.98840987e30 * constants.G / (constants.c**3)                    #solar mass in seconds\n",
    "    M_c = chirp_mass * m_sun                                                  #chirp mass in seconds\n",
    "    D_L = constants.parsec * 1e9 / constants.speed_of_light                   #luminosity distance in seconds (1Gpc).\n",
    "\n",
    "    #calculating coalescence time, f_isco and t_isco\n",
    "    tc = coalescence_time(fmin, M_c)                                          \n",
    "    f_isco = 1 / (np.pi * 6**(3/2) * 2**(6/5) *M_c)\n",
    "    t_isco = tc - 5 * (8*np.pi*f_isco)**(-8/3) * M_c**(-5/3)\n",
    "    #time and frequency arrays\n",
    "    t = np.linspace(0, t_isco, Nsamples)                                     \n",
    "    f = freq(t, tc, M_c)\n",
    "\n",
    "    #params\n",
    "    phi = phase(tc, t, M_c, phi_c)\n",
    "    phi_t_Lbar_ = phi_t_Lbar(t, phi_0)\n",
    "    theta_s_t_ = theta_s_t(theta_sbar, phi_t_Lbar_, phi_sbar)\n",
    "    alpha_t_ = alpha_i_t(det_no, t, alpha_0)\n",
    "    phi_s_t_ = phi_s_t(theta_sbar, phi_t_Lbar_, phi_sbar, alpha_t_)\n",
    "    psi_s_t_ = psi_s_t(theta_Lbar, phi_Lbar, theta_sbar, phi_sbar, phi_t_Lbar_)\n",
    "    doppler_phase_ = doppler_phase(f, theta_sbar, phi_t_Lbar_, phi_sbar)\n",
    "    F_plus_ = F_plus(theta_s_t_, phi_s_t_, psi_s_t_)\n",
    "    F_cross_ = F_cross(theta_s_t_, phi_s_t_, psi_s_t_)\n",
    "    phi_P_I_t_ = phi_P_I_t(cos_i, F_plus_, F_cross_)\n",
    "    A_t_ = A_t(M_c, f, D_L)\n",
    "    A_p_t_ = A_p_t(F_plus_, F_cross_, cos_i)\n",
    "    strain = h_t(A_t_, A_p_t_, phi, phi_P_I_t_, doppler_phase_)\n",
    "    strain_list.append(strain)\n",
    "print(strain_list)"
   ]
  },
  {
   "cell_type": "code",
   "execution_count": 6,
   "metadata": {},
   "outputs": [],
   "source": [
    "strain = h_t(A_t_, A_p_t_, phi, phi_P_I_t_, doppler_phase_)"
   ]
  },
  {
   "cell_type": "code",
   "execution_count": 7,
   "metadata": {},
   "outputs": [
    {
     "data": {
      "text/plain": [
       "[<matplotlib.lines.Line2D at 0x29412424ba8>]"
      ]
     },
     "execution_count": 7,
     "metadata": {},
     "output_type": "execute_result"
    },
    {
     "data": {
      "image/png": "[encoded data removed]",
      "text/plain": [
       "<Figure size 432x288 with 1 Axes>"
      ]
     },
     "metadata": {
      "needs_background": "light"
     },
     "output_type": "display_data"
    }
   ],
   "source": [
    "plt.plot(t, strain)"
   ]
  },
  {
   "cell_type": "code",
   "execution_count": null,
   "metadata": {},
   "outputs": [],
   "source": []
  }
 ],
 "metadata": {
  "kernelspec": {
   "display_name": "Python 3",
   "language": "python",
   "name": "python3"
  },
  "language_info": {
   "codemirror_mode": {
    "name": "ipython",
    "version": 3
   },
   "file_extension": ".py",
   "mimetype": "text/x-python",
   "name": "python",
   "nbconvert_exporter": "python",
   "pygments_lexer": "ipython3",
   "version": "3.7.0"
  }
 },
 "nbformat": 4,
 "nbformat_minor": 2
}
